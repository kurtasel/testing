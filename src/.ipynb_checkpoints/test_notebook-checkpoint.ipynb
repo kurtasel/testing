{
 "cells": [
  {
   "cell_type": "code",
   "execution_count": 1,
   "id": "b56c2a71-bdb0-437c-86fd-d141c7bceca3",
   "metadata": {
    "tags": []
   },
   "outputs": [
    {
     "name": "stdout",
     "output_type": "stream",
     "text": [
      "Hello World\n"
     ]
    }
   ],
   "source": [
    "print('Hello World')"
   ]
  },
  {
   "cell_type": "code",
   "execution_count": 2,
   "id": "eb0b3be8-ba0b-470c-a779-7b1bc3c1e262",
   "metadata": {
    "tags": []
   },
   "outputs": [
    {
     "name": "stdout",
     "output_type": "stream",
     "text": [
      "wow\n"
     ]
    }
   ],
   "source": [
    "print('wow')"
   ]
  },
  {
   "cell_type": "code",
   "execution_count": 3,
   "id": "b0bfda8a-0651-4b15-93a1-eca6d0dfee1a",
   "metadata": {
    "tags": []
   },
   "outputs": [
    {
     "name": "stdout",
     "output_type": "stream",
     "text": [
      "gogo\n"
     ]
    }
   ],
   "source": [
    "print('gogo')"
   ]
  },
  {
   "cell_type": "code",
   "execution_count": 4,
   "id": "0c9dadce-9736-45ad-a8b7-a076036f9565",
   "metadata": {
    "tags": []
   },
   "outputs": [],
   "source": [
    "a1 = 'Hello' #string\n",
    "a2 = \"hello\" #string"
   ]
  },
  {
   "cell_type": "code",
   "execution_count": 5,
   "id": "98f177f3-8466-4802-9960-a3b4d7975b6a",
   "metadata": {
    "tags": []
   },
   "outputs": [],
   "source": [
    "a3 = 24 #int\n",
    "a4 = 25.0 #float "
   ]
  },
  {
   "cell_type": "code",
   "execution_count": 6,
   "id": "6618b473-4887-4a4f-a368-7e42b38a8351",
   "metadata": {
    "tags": []
   },
   "outputs": [],
   "source": [
    "a5 = True #Bool\n",
    "a6 = False #Boolean"
   ]
  },
  {
   "cell_type": "code",
   "execution_count": 7,
   "id": "9ad01533-7e25-4a32-9658-56605f6f7286",
   "metadata": {
    "tags": []
   },
   "outputs": [],
   "source": [
    "#List\n",
    "a7 = ['hello', 4, 25, True]"
   ]
  },
  {
   "cell_type": "code",
   "execution_count": 8,
   "id": "8ce9381e-7fcd-49d4-a67f-351dffdd3a5c",
   "metadata": {
    "tags": []
   },
   "outputs": [
    {
     "data": {
      "text/plain": [
       "'hello'"
      ]
     },
     "execution_count": 8,
     "metadata": {},
     "output_type": "execute_result"
    }
   ],
   "source": [
    "#call\n",
    "a7[0]"
   ]
  },
  {
   "cell_type": "code",
   "execution_count": 9,
   "id": "94fe34d2-fe5a-4aa0-9a21-9cf0f176e593",
   "metadata": {},
   "outputs": [
    {
     "data": {
      "text/plain": [
       "['hello', 25]"
      ]
     },
     "execution_count": 9,
     "metadata": {},
     "output_type": "execute_result"
    }
   ],
   "source": [
    "#slicing\n",
    "a7[0:4:2]"
   ]
  },
  {
   "cell_type": "code",
   "execution_count": 10,
   "id": "c8120b86-71ee-46de-9843-283bfaa26e44",
   "metadata": {
    "tags": []
   },
   "outputs": [],
   "source": [
    "#append\n",
    "a7.append('kurt')"
   ]
  },
  {
   "cell_type": "code",
   "execution_count": 11,
   "id": "fefab1ee-3db6-43f0-92a2-729737f3a659",
   "metadata": {
    "tags": []
   },
   "outputs": [
    {
     "data": {
      "text/plain": [
       "'hello'"
      ]
     },
     "execution_count": 11,
     "metadata": {},
     "output_type": "execute_result"
    }
   ],
   "source": [
    "#pop last\n",
    "a7.pop()\n",
    "#pop at chosen index\n",
    "a7.pop(0)"
   ]
  },
  {
   "cell_type": "code",
   "execution_count": 12,
   "id": "7e70c8cb-46a3-40d8-958c-f8395c204610",
   "metadata": {
    "tags": []
   },
   "outputs": [],
   "source": [
    "#replace\n",
    "a7[0] = 'hi'"
   ]
  },
  {
   "cell_type": "code",
   "execution_count": 13,
   "id": "bddf413d-8e7a-4aa8-99f2-e69b7866d96f",
   "metadata": {
    "tags": []
   },
   "outputs": [
    {
     "data": {
      "text/plain": [
       "['hi', 25, True]"
      ]
     },
     "execution_count": 13,
     "metadata": {},
     "output_type": "execute_result"
    }
   ],
   "source": [
    "a7"
   ]
  },
  {
   "cell_type": "code",
   "execution_count": 14,
   "id": "7ff1d5e6-704e-49cf-b7d8-77f58586b693",
   "metadata": {
    "tags": []
   },
   "outputs": [],
   "source": [
    "#insert\n",
    "a7.insert(1, 'po')"
   ]
  },
  {
   "cell_type": "code",
   "execution_count": 15,
   "id": "196d9e4f-7626-4ba7-9f94-c1af26b01ed2",
   "metadata": {
    "tags": []
   },
   "outputs": [],
   "source": [
    "a8 = [7,8,9, \"hahahahha\"]"
   ]
  },
  {
   "cell_type": "code",
   "execution_count": 16,
   "id": "d04d3f0a-4680-45f1-9620-ed4c47b4050a",
   "metadata": {
    "tags": []
   },
   "outputs": [],
   "source": [
    "a7.insert(2, a8)"
   ]
  },
  {
   "cell_type": "code",
   "execution_count": 17,
   "id": "5205dc73-30df-40b0-8262-8ee3b9d716b8",
   "metadata": {
    "tags": []
   },
   "outputs": [],
   "source": [
    "#extend\n",
    "a7.extend(a8)"
   ]
  },
  {
   "cell_type": "code",
   "execution_count": 18,
   "id": "247493c8-5ebc-4b54-b115-a27d50c7c1ab",
   "metadata": {
    "tags": []
   },
   "outputs": [
    {
     "data": {
      "text/plain": [
       "['hi', 'po', [7, 8, 9, 'hahahahha'], 25, True, 7, 8, 9, 'hahahahha']"
      ]
     },
     "execution_count": 18,
     "metadata": {},
     "output_type": "execute_result"
    }
   ],
   "source": [
    "a7"
   ]
  },
  {
   "cell_type": "code",
   "execution_count": 19,
   "id": "04bccd8f-c156-417b-bc5e-91c2c941ba6c",
   "metadata": {
    "tags": []
   },
   "outputs": [
    {
     "data": {
      "text/plain": [
       "4"
      ]
     },
     "execution_count": 19,
     "metadata": {},
     "output_type": "execute_result"
    }
   ],
   "source": [
    "a7.index(True)"
   ]
  },
  {
   "cell_type": "code",
   "execution_count": 20,
   "id": "d0d6f958-1dcd-432f-89c2-93369ad2c98f",
   "metadata": {
    "tags": []
   },
   "outputs": [
    {
     "data": {
      "text/plain": [
       "['hi', 'po', [7, 8, 9, 'hahahahha'], 25, True, 7, 8, 9, 'hahahahha', True]"
      ]
     },
     "execution_count": 20,
     "metadata": {},
     "output_type": "execute_result"
    }
   ],
   "source": [
    "a7.append(True)\n",
    "a7"
   ]
  },
  {
   "cell_type": "code",
   "execution_count": 21,
   "id": "4b8a1172-fc68-4315-b34d-85089b69a556",
   "metadata": {
    "tags": []
   },
   "outputs": [
    {
     "data": {
      "text/plain": [
       "0"
      ]
     },
     "execution_count": 21,
     "metadata": {},
     "output_type": "execute_result"
    }
   ],
   "source": [
    "#count\n",
    "a7.count(4)"
   ]
  },
  {
   "cell_type": "code",
   "execution_count": 22,
   "id": "8c4fa59e-13ea-45f6-84ef-d420fa1ed547",
   "metadata": {
    "tags": []
   },
   "outputs": [],
   "source": [
    "#Tuple\n",
    "a9 = ('Hello', 24, 25, True)"
   ]
  },
  {
   "cell_type": "code",
   "execution_count": 23,
   "id": "e5c03a7a-8f3b-494d-91bd-02a395f1bcb9",
   "metadata": {
    "tags": []
   },
   "outputs": [],
   "source": [
    "set\n",
    "a10 = {'Hello', 24, 24, 24}"
   ]
  },
  {
   "cell_type": "code",
   "execution_count": 24,
   "id": "73e2c08c-8a39-47b2-bfe4-f4d239803a84",
   "metadata": {
    "tags": []
   },
   "outputs": [
    {
     "data": {
      "text/plain": [
       "{24, 'Hello'}"
      ]
     },
     "execution_count": 24,
     "metadata": {},
     "output_type": "execute_result"
    }
   ],
   "source": [
    "a10"
   ]
  },
  {
   "cell_type": "code",
   "execution_count": 25,
   "id": "2f918114-9efb-46c7-846d-72bc5ddfbd95",
   "metadata": {
    "tags": []
   },
   "outputs": [],
   "source": [
    "a11 = {1,3,2,4,4,4,5,7,6}"
   ]
  },
  {
   "cell_type": "code",
   "execution_count": 26,
   "id": "366f17e6-f291-4651-be1d-d7f3d90e49e5",
   "metadata": {
    "tags": []
   },
   "outputs": [],
   "source": [
    "#dictionary\n",
    "a12 = {'kurt' : 'Barcelona',\n",
    "       'mark' : 'anton',\n",
    "       'spongebob' : [24, 25]\n",
    "\n",
    "}"
   ]
  },
  {
   "cell_type": "code",
   "execution_count": 27,
   "id": "b7d352e2-9f2e-4731-96a6-b79558e1fa2c",
   "metadata": {
    "tags": []
   },
   "outputs": [
    {
     "data": {
      "text/plain": [
       "[24, 25]"
      ]
     },
     "execution_count": 27,
     "metadata": {},
     "output_type": "execute_result"
    }
   ],
   "source": [
    "a12['spongebob']"
   ]
  },
  {
   "cell_type": "code",
   "execution_count": 28,
   "id": "5acc3d73-228a-4061-a77f-f53e8589db7d",
   "metadata": {
    "tags": []
   },
   "outputs": [
    {
     "data": {
      "text/plain": [
       "dict_keys(['kurt', 'mark', 'spongebob'])"
      ]
     },
     "execution_count": 28,
     "metadata": {},
     "output_type": "execute_result"
    }
   ],
   "source": [
    "a12.keys()"
   ]
  },
  {
   "cell_type": "code",
   "execution_count": 29,
   "id": "17e99a27-81dd-4646-b4f0-61d908fcaa0e",
   "metadata": {
    "tags": []
   },
   "outputs": [
    {
     "data": {
      "text/plain": [
       "dict_values(['Barcelona', 'anton', [24, 25]])"
      ]
     },
     "execution_count": 29,
     "metadata": {},
     "output_type": "execute_result"
    }
   ],
   "source": [
    "a12.values()"
   ]
  },
  {
   "cell_type": "code",
   "execution_count": 30,
   "id": "4eebd951-44ed-4070-a24c-85928a42fe6c",
   "metadata": {
    "tags": []
   },
   "outputs": [
    {
     "data": {
      "text/plain": [
       "dict"
      ]
     },
     "execution_count": 30,
     "metadata": {},
     "output_type": "execute_result"
    }
   ],
   "source": [
    "type(a12)"
   ]
  },
  {
   "cell_type": "code",
   "execution_count": 31,
   "id": "17e29fa8-bcc6-48e2-a710-c051646faa8a",
   "metadata": {
    "tags": []
   },
   "outputs": [],
   "source": [
    "a12['spongebob'].append(26)"
   ]
  },
  {
   "cell_type": "code",
   "execution_count": 32,
   "id": "e1b39252-d494-4e89-bdcc-4b79f9fb3d58",
   "metadata": {
    "tags": []
   },
   "outputs": [
    {
     "data": {
      "text/plain": [
       "[24, 25, 26]"
      ]
     },
     "execution_count": 32,
     "metadata": {},
     "output_type": "execute_result"
    }
   ],
   "source": [
    "a12['spongebob']"
   ]
  },
  {
   "cell_type": "code",
   "execution_count": 33,
   "id": "10051455-2909-4877-8196-a02f7f554463",
   "metadata": {
    "tags": []
   },
   "outputs": [],
   "source": [
    "a12['kurt'] = ['barcelona']"
   ]
  },
  {
   "cell_type": "code",
   "execution_count": 34,
   "id": "a1234a6d-1daf-426c-81f5-0e7f81011b3f",
   "metadata": {
    "tags": []
   },
   "outputs": [],
   "source": [
    "a12['kurt'].append('pogi')"
   ]
  },
  {
   "cell_type": "code",
   "execution_count": 35,
   "id": "ead3a7d6-f27d-4001-a813-ab83f13c90cb",
   "metadata": {
    "tags": []
   },
   "outputs": [
    {
     "data": {
      "text/plain": [
       "{'kurt': ['barcelona', 'pogi'], 'mark': 'anton', 'spongebob': [24, 25, 26]}"
      ]
     },
     "execution_count": 35,
     "metadata": {},
     "output_type": "execute_result"
    }
   ],
   "source": [
    "a12"
   ]
  },
  {
   "cell_type": "code",
   "execution_count": 36,
   "id": "a71383fc-e983-442c-bb5b-918d0c0b1a97",
   "metadata": {},
   "outputs": [],
   "source": [
    "#addition +\n",
    "#subtraction -\n",
    "#multiplication *\n",
    "#division /\n",
    "#whole number division //\n",
    "#modulus division %\n",
    "#exponent **\n"
   ]
  },
  {
   "cell_type": "markdown",
   "id": "dd4619d5-15e2-4df1-8d22-87f5b630a28d",
   "metadata": {},
   "source": [
    "# Test py ni kurt"
   ]
  },
  {
   "cell_type": "markdown",
   "id": "d713f49d-2091-444f-b84f-6eef8f12498d",
   "metadata": {},
   "source": [
    "## chapter 1.1"
   ]
  },
  {
   "cell_type": "markdown",
   "id": "bb3d91a3-97c9-4088-a5c9-791eb847d375",
   "metadata": {},
   "source": [
    "- kurt\n",
    "- mark"
   ]
  },
  {
   "cell_type": "markdown",
   "id": "9a30ed3c-b019-44f3-8a19-bbb3049e2a1f",
   "metadata": {
    "tags": []
   },
   "source": [
    "1. kurt\n",
    "2. mark"
   ]
  },
  {
   "cell_type": "code",
   "execution_count": 37,
   "id": "566cc177-c689-4fb6-971f-ea3b64eb7170",
   "metadata": {
    "tags": []
   },
   "outputs": [
    {
     "data": {
      "text/plain": [
       "True"
      ]
     },
     "execution_count": 37,
     "metadata": {},
     "output_type": "execute_result"
    }
   ],
   "source": [
    "1 > 0\n"
   ]
  },
  {
   "cell_type": "code",
   "execution_count": 38,
   "id": "92bbbe22-2677-42c7-900e-2f61ba11a5a7",
   "metadata": {
    "tags": []
   },
   "outputs": [
    {
     "data": {
      "text/plain": [
       "False"
      ]
     },
     "execution_count": 38,
     "metadata": {},
     "output_type": "execute_result"
    }
   ],
   "source": [
    "1 < 0"
   ]
  },
  {
   "cell_type": "code",
   "execution_count": 39,
   "id": "48c05e18-1082-480a-9d2b-5a61266b5658",
   "metadata": {
    "tags": []
   },
   "outputs": [
    {
     "data": {
      "text/plain": [
       "False"
      ]
     },
     "execution_count": 39,
     "metadata": {},
     "output_type": "execute_result"
    }
   ],
   "source": [
    "1 == 0"
   ]
  },
  {
   "cell_type": "code",
   "execution_count": 40,
   "id": "bc357e39-57f0-4dee-bd44-02c787772485",
   "metadata": {
    "tags": []
   },
   "outputs": [],
   "source": [
    "def addition_func(x=None,v=None, y=3, z=5):\n",
    "    answer = x + y + z\n",
    "    return answer"
   ]
  },
  {
   "cell_type": "code",
   "execution_count": 41,
   "id": "033812ba-9d48-4b5a-b59b-eb3cf0ec302d",
   "metadata": {
    "tags": []
   },
   "outputs": [
    {
     "ename": "TypeError",
     "evalue": "unsupported operand type(s) for +: 'NoneType' and 'int'",
     "output_type": "error",
     "traceback": [
      "\u001b[0;31m---------------------------------------------------------------------------\u001b[0m",
      "\u001b[0;31mTypeError\u001b[0m                                 Traceback (most recent call last)",
      "Cell \u001b[0;32mIn[41], line 1\u001b[0m\n\u001b[0;32m----> 1\u001b[0m \u001b[43maddition_func\u001b[49m\u001b[43m(\u001b[49m\u001b[43m)\u001b[49m\n",
      "Cell \u001b[0;32mIn[40], line 2\u001b[0m, in \u001b[0;36maddition_func\u001b[0;34m(x, v, y, z)\u001b[0m\n\u001b[1;32m      1\u001b[0m \u001b[38;5;28;01mdef\u001b[39;00m \u001b[38;5;21maddition_func\u001b[39m(x\u001b[38;5;241m=\u001b[39m\u001b[38;5;28;01mNone\u001b[39;00m,v\u001b[38;5;241m=\u001b[39m\u001b[38;5;28;01mNone\u001b[39;00m, y\u001b[38;5;241m=\u001b[39m\u001b[38;5;241m3\u001b[39m, z\u001b[38;5;241m=\u001b[39m\u001b[38;5;241m5\u001b[39m):\n\u001b[0;32m----> 2\u001b[0m     answer \u001b[38;5;241m=\u001b[39m \u001b[43mx\u001b[49m\u001b[43m \u001b[49m\u001b[38;5;241;43m+\u001b[39;49m\u001b[43m \u001b[49m\u001b[43my\u001b[49m \u001b[38;5;241m+\u001b[39m z\n\u001b[1;32m      3\u001b[0m     \u001b[38;5;28;01mreturn\u001b[39;00m answer\n",
      "\u001b[0;31mTypeError\u001b[0m: unsupported operand type(s) for +: 'NoneType' and 'int'"
     ]
    }
   ],
   "source": [
    "addition_func()"
   ]
  },
  {
   "cell_type": "code",
   "execution_count": 42,
   "id": "e5b4a738-316b-4714-93ba-3d59ff50b7df",
   "metadata": {
    "tags": []
   },
   "outputs": [
    {
     "data": {
      "text/plain": [
       "9"
      ]
     },
     "execution_count": 42,
     "metadata": {},
     "output_type": "execute_result"
    }
   ],
   "source": [
    "wow = addition_func(1,2)\n",
    "wow"
   ]
  },
  {
   "cell_type": "code",
   "execution_count": 43,
   "id": "297f2230-bbb5-4c8f-bc34-a44c541fc964",
   "metadata": {
    "tags": []
   },
   "outputs": [],
   "source": [
    "grr = addition_func(wow, 3)"
   ]
  },
  {
   "cell_type": "code",
   "execution_count": 44,
   "id": "d3336951-7c3d-4bc9-b0bd-6d79684b70b8",
   "metadata": {
    "tags": []
   },
   "outputs": [
    {
     "data": {
      "text/plain": [
       "17"
      ]
     },
     "execution_count": 44,
     "metadata": {},
     "output_type": "execute_result"
    }
   ],
   "source": [
    "grr"
   ]
  },
  {
   "cell_type": "code",
   "execution_count": 45,
   "id": "f7b95693-b21a-41c7-843d-9548394749bf",
   "metadata": {
    "tags": []
   },
   "outputs": [],
   "source": [
    "def combine_name(first_name, last_name):\n",
    "    full_name = f'{first_name} {last_name}'\n",
    "    return full_name"
   ]
  },
  {
   "cell_type": "code",
   "execution_count": 46,
   "id": "3a13104d-6f47-474c-a4a3-c3238e26ca03",
   "metadata": {
    "tags": []
   },
   "outputs": [
    {
     "data": {
      "text/plain": [
       "'kurt Barcelona'"
      ]
     },
     "execution_count": 46,
     "metadata": {},
     "output_type": "execute_result"
    }
   ],
   "source": [
    "combine_name('kurt', 'Barcelona')"
   ]
  },
  {
   "cell_type": "code",
   "execution_count": null,
   "id": "97b927b1-5305-427e-82d8-7675daa1738c",
   "metadata": {},
   "outputs": [],
   "source": []
  },
  {
   "cell_type": "code",
   "execution_count": 47,
   "id": "13e66756-f0e2-445e-b617-9ced4ca09702",
   "metadata": {
    "tags": []
   },
   "outputs": [],
   "source": [
    "class KurtBarcelona:\n",
    "    def __init__(self, first_name=None, last_name=None, age=None):\n",
    "        self.first_name = first_name\n",
    "        self.last_name = last_name\n",
    "        self.age = age\n",
    "    \n",
    "    def print_full_name(self):\n",
    "        full_name = f'{self.first_name} {self.last_name}'\n",
    "        return print(full_name)\n",
    "    \n",
    "    def add_first_name(self, firstname):\n",
    "        self.first_name = firstname\n",
    "        return self\n",
    "    \n",
    "    def add_last_name(self, lastname):\n",
    "        self.last_name = lastname\n",
    "        return self\n",
    "    \n",
    "    def add_age(self, age):\n",
    "        self.age = age\n",
    "        return self\n",
    "    \n",
    "    def full_name(self, first_name, last_name):\n",
    "        self.first_name = first_name\n",
    "        self.last_name = last_name\n",
    "        return self\n",
    "    "
   ]
  },
  {
   "cell_type": "code",
   "execution_count": 48,
   "id": "04e910a0-3f77-44f3-bd52-e2b50df4a6f8",
   "metadata": {
    "tags": []
   },
   "outputs": [],
   "source": [
    "wow = KurtBarcelona()"
   ]
  },
  {
   "cell_type": "code",
   "execution_count": 49,
   "id": "18c8254a-aaaa-4fb6-bc53-add2c28b90ad",
   "metadata": {},
   "outputs": [
    {
     "data": {
      "text/plain": [
       "<__main__.KurtBarcelona at 0x7f435f683d90>"
      ]
     },
     "execution_count": 49,
     "metadata": {},
     "output_type": "execute_result"
    }
   ],
   "source": [
    "wow.add_first_name('kurt')"
   ]
  },
  {
   "cell_type": "code",
   "execution_count": 50,
   "id": "abe45742-0cb9-44e4-9b88-81a3d14c735e",
   "metadata": {
    "tags": []
   },
   "outputs": [
    {
     "data": {
      "text/plain": [
       "'kurt'"
      ]
     },
     "execution_count": 50,
     "metadata": {},
     "output_type": "execute_result"
    }
   ],
   "source": [
    "wow.first_name"
   ]
  },
  {
   "cell_type": "code",
   "execution_count": 51,
   "id": "0314f047-2e7e-4ea7-87bb-f2f206664efa",
   "metadata": {
    "tags": []
   },
   "outputs": [
    {
     "name": "stdout",
     "output_type": "stream",
     "text": [
      "None\n"
     ]
    }
   ],
   "source": [
    "print(wow.last_name)"
   ]
  },
  {
   "cell_type": "code",
   "execution_count": 52,
   "id": "f23eec6e-edfd-43a6-a510-9da7efa254b3",
   "metadata": {
    "tags": []
   },
   "outputs": [
    {
     "data": {
      "text/plain": [
       "<__main__.KurtBarcelona at 0x7f435f683d90>"
      ]
     },
     "execution_count": 52,
     "metadata": {},
     "output_type": "execute_result"
    }
   ],
   "source": [
    "wow.add_last_name('Barcelona')"
   ]
  },
  {
   "cell_type": "code",
   "execution_count": 53,
   "id": "7df3d87f-2101-4136-8cc1-f673ff35bd41",
   "metadata": {
    "tags": []
   },
   "outputs": [
    {
     "data": {
      "text/plain": [
       "'Barcelona'"
      ]
     },
     "execution_count": 53,
     "metadata": {},
     "output_type": "execute_result"
    }
   ],
   "source": [
    "wow.last_name"
   ]
  },
  {
   "cell_type": "code",
   "execution_count": 54,
   "id": "387bbb4e-eb57-4851-ad86-5ef2a0c300a3",
   "metadata": {
    "tags": []
   },
   "outputs": [
    {
     "name": "stdout",
     "output_type": "stream",
     "text": [
      "kurt Barcelona\n"
     ]
    }
   ],
   "source": [
    "wow.print_full_name()"
   ]
  },
  {
   "cell_type": "code",
   "execution_count": 55,
   "id": "d6208b6b-d2d7-4bf1-9d56-415905fd2ef1",
   "metadata": {
    "tags": []
   },
   "outputs": [
    {
     "data": {
      "text/plain": [
       "<__main__.KurtBarcelona at 0x7f435f683d90>"
      ]
     },
     "execution_count": 55,
     "metadata": {},
     "output_type": "execute_result"
    }
   ],
   "source": [
    "wow.add_age(28)"
   ]
  },
  {
   "cell_type": "code",
   "execution_count": 56,
   "id": "bea2ed96-df86-4672-82a5-c45dde3c1345",
   "metadata": {
    "tags": []
   },
   "outputs": [
    {
     "data": {
      "text/plain": [
       "28"
      ]
     },
     "execution_count": 56,
     "metadata": {},
     "output_type": "execute_result"
    }
   ],
   "source": [
    "wow.age"
   ]
  },
  {
   "cell_type": "code",
   "execution_count": 57,
   "id": "be5c47bb-59a1-4eb9-ac23-e175c541132c",
   "metadata": {
    "tags": []
   },
   "outputs": [
    {
     "data": {
      "text/plain": [
       "<__main__.KurtBarcelona at 0x7f435f683d90>"
      ]
     },
     "execution_count": 57,
     "metadata": {},
     "output_type": "execute_result"
    }
   ],
   "source": [
    "wow.full_name('mark', 'oesterdal')"
   ]
  },
  {
   "cell_type": "code",
   "execution_count": 58,
   "id": "f66ea032-3e7d-40ff-9e0d-f4791ef608d7",
   "metadata": {
    "tags": []
   },
   "outputs": [
    {
     "data": {
      "text/plain": [
       "'mark'"
      ]
     },
     "execution_count": 58,
     "metadata": {},
     "output_type": "execute_result"
    }
   ],
   "source": [
    "wow.first_name"
   ]
  },
  {
   "cell_type": "code",
   "execution_count": 59,
   "id": "ed777d47-433e-48c8-9cb3-879c08a1432a",
   "metadata": {
    "tags": []
   },
   "outputs": [
    {
     "data": {
      "text/plain": [
       "'oesterdal'"
      ]
     },
     "execution_count": 59,
     "metadata": {},
     "output_type": "execute_result"
    }
   ],
   "source": [
    "wow.last_name"
   ]
  },
  {
   "cell_type": "code",
   "execution_count": 60,
   "id": "d13cdecf-7bb8-4565-8819-df07b7d9e1a6",
   "metadata": {
    "tags": []
   },
   "outputs": [
    {
     "data": {
      "text/plain": [
       "<__main__.KurtBarcelona at 0x7f435f683d90>"
      ]
     },
     "execution_count": 60,
     "metadata": {},
     "output_type": "execute_result"
    }
   ],
   "source": [
    "wow.add_first_name('kurt').add_last_name('Barcelona')"
   ]
  },
  {
   "cell_type": "code",
   "execution_count": 61,
   "id": "23b12ae9-2a55-41a9-8721-188543a59f1d",
   "metadata": {
    "tags": []
   },
   "outputs": [
    {
     "ename": "AttributeError",
     "evalue": "'KurtBarcelona' object has no attribute 'full_name_v2'",
     "output_type": "error",
     "traceback": [
      "\u001b[0;31m---------------------------------------------------------------------------\u001b[0m",
      "\u001b[0;31mAttributeError\u001b[0m                            Traceback (most recent call last)",
      "Cell \u001b[0;32mIn[61], line 1\u001b[0m\n\u001b[0;32m----> 1\u001b[0m \u001b[43mwow\u001b[49m\u001b[38;5;241;43m.\u001b[39;49m\u001b[43mfull_name_v2\u001b[49m(\u001b[38;5;124m'\u001b[39m\u001b[38;5;124mmark\u001b[39m\u001b[38;5;124m'\u001b[39m, \u001b[38;5;124m'\u001b[39m\u001b[38;5;124moesterdal\u001b[39m\u001b[38;5;124m'\u001b[39m)\n",
      "\u001b[0;31mAttributeError\u001b[0m: 'KurtBarcelona' object has no attribute 'full_name_v2'"
     ]
    }
   ],
   "source": [
    "wow.full_name_v2('mark', 'oesterdal')"
   ]
  },
  {
   "cell_type": "code",
   "execution_count": 67,
   "id": "4507334b-b392-4dcf-bf4f-bf7e51bfcd23",
   "metadata": {
    "tags": []
   },
   "outputs": [],
   "source": [
    "def build_kurt(first_name = 'Kurt', last_name = 'Barcelona'):\n",
    "    test = KurtBarcelona()\n",
    "    test.add_first_name(first_name)\n",
    "    test.add_last_name(last_name)\n",
    "    return test.print_full_name()\n",
    "\n",
    "def build_mark(first_name = 'mark', last_name = 'oesterdal'):\n",
    "    test = KurtBarcelona()\n",
    "    test.add_first_name(first_name)\n",
    "    test.add_last_name(last_name)\n",
    "    return test.print_full_name()"
   ]
  },
  {
   "cell_type": "code",
   "execution_count": 68,
   "id": "84be1519-be11-482e-84a9-6b57e66f977a",
   "metadata": {
    "tags": []
   },
   "outputs": [
    {
     "name": "stdout",
     "output_type": "stream",
     "text": [
      "Kurt Barcelona\n",
      "mark oesterdal\n"
     ]
    }
   ],
   "source": [
    "employee1 = build_kurt()\n",
    "employee2= build_mark()"
   ]
  },
  {
   "cell_type": "code",
   "execution_count": 70,
   "id": "4d3eea73-845b-4a7d-9f2c-f413523101f7",
   "metadata": {},
   "outputs": [],
   "source": [
    "class MarkAnton(KurtBarcelona):\n",
    "    def __init__(self, first_name = None, last_name = None, age = None, profession = None):\n",
    "        self.first_name = first_name\n",
    "        self.last_name = last_name\n",
    "        self.age = age\n",
    "        self.profession = profession\n",
    "        \n",
    "    def add_profession(self, profession):\n",
    "        self.profession = profession"
   ]
  },
  {
   "cell_type": "code",
   "execution_count": 71,
   "id": "f6a215be-31c6-4278-b98f-34650cde2bdf",
   "metadata": {
    "tags": []
   },
   "outputs": [],
   "source": [
    "wow2 = MarkAnton()"
   ]
  },
  {
   "cell_type": "code",
   "execution_count": 72,
   "id": "0eb56a4e-de87-49fa-b86f-e4b611811582",
   "metadata": {
    "tags": []
   },
   "outputs": [
    {
     "data": {
      "text/plain": [
       "<__main__.MarkAnton at 0x7f438125d1e0>"
      ]
     },
     "execution_count": 72,
     "metadata": {},
     "output_type": "execute_result"
    }
   ],
   "source": [
    "wow2.add_first_name('Mark')"
   ]
  },
  {
   "cell_type": "code",
   "execution_count": 74,
   "id": "56d688a7-8435-4bb3-80a7-af4b24599165",
   "metadata": {
    "tags": []
   },
   "outputs": [],
   "source": [
    "wow2.add_profession('DataScience')"
   ]
  },
  {
   "cell_type": "code",
   "execution_count": 75,
   "id": "2f9b04a9-9773-45a0-8c96-666b97539cf0",
   "metadata": {
    "tags": []
   },
   "outputs": [
    {
     "data": {
      "text/plain": [
       "'DataScience'"
      ]
     },
     "execution_count": 75,
     "metadata": {},
     "output_type": "execute_result"
    }
   ],
   "source": [
    "wow2.profession"
   ]
  },
  {
   "cell_type": "code",
   "execution_count": 76,
   "id": "ba651a0a-3bc4-496f-a50c-52e9abd0c099",
   "metadata": {
    "tags": []
   },
   "outputs": [
    {
     "ename": "AttributeError",
     "evalue": "'KurtBarcelona' object has no attribute 'add_profesion'",
     "output_type": "error",
     "traceback": [
      "\u001b[0;31m---------------------------------------------------------------------------\u001b[0m",
      "\u001b[0;31mAttributeError\u001b[0m                            Traceback (most recent call last)",
      "Cell \u001b[0;32mIn[76], line 1\u001b[0m\n\u001b[0;32m----> 1\u001b[0m \u001b[43mwow\u001b[49m\u001b[38;5;241;43m.\u001b[39;49m\u001b[43madd_profesion\u001b[49m(\u001b[38;5;124m'\u001b[39m\u001b[38;5;124mengineer\u001b[39m\u001b[38;5;124m'\u001b[39m)\n",
      "\u001b[0;31mAttributeError\u001b[0m: 'KurtBarcelona' object has no attribute 'add_profesion'"
     ]
    }
   ],
   "source": [
    "wow.add_profesion('engineer')"
   ]
  },
  {
   "cell_type": "code",
   "execution_count": null,
   "id": "893f600d-36da-47e9-815c-e3e2b3761903",
   "metadata": {},
   "outputs": [],
   "source": []
  }
 ],
 "metadata": {
  "kernelspec": {
   "display_name": "Python 3 (ipykernel)",
   "language": "python",
   "name": "python3"
  },
  "language_info": {
   "codemirror_mode": {
    "name": "ipython",
    "version": 3
   },
   "file_extension": ".py",
   "mimetype": "text/x-python",
   "name": "python",
   "nbconvert_exporter": "python",
   "pygments_lexer": "ipython3",
   "version": "3.10.4"
  }
 },
 "nbformat": 4,
 "nbformat_minor": 5
}
